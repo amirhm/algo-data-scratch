{
 "cells": [
  {
   "cell_type": "code",
   "execution_count": null,
   "id": "57a5296d",
   "metadata": {},
   "outputs": [],
   "source": [
    "class TrieNode:\n",
    "    def __init__(self, value):\n",
    "        self.childs = {}\n",
    "        self.value = value\n",
    "        self.freq = 0\n",
    "        \n",
    "class Trie:\n",
    "    def __init__(self, words):\n",
    "        self.root = TrieNode(\"$\")\n",
    "        for word in words:\n",
    "            self.addword(word)\n",
    "    def addword(self, word):\n",
    "        cur = self.root\n",
    "        for w in word:\n",
    "            if w not in cur.childs:\n",
    "                cur.childs[w] = TrieNode(w)\n",
    "            cur.childs[w].freq += 1\n",
    "            cur = cur.childs[w]\n",
    "            \n",
    "    def count(self, prefix):\n",
    "        cur = self.root\n",
    "        for w in prefix:\n",
    "            if w in cur.childs:\n",
    "                cur = cur.childs[w]\n",
    "            else:\n",
    "                return 0\n",
    "        return cur.freq\n"
   ]
  },
  {
   "cell_type": "code",
   "execution_count": null,
   "id": "33d1ec94",
   "metadata": {},
   "outputs": [],
   "source": [
    "# tests"
   ]
  },
  {
   "cell_type": "code",
   "execution_count": null,
   "id": "f3c971e2",
   "metadata": {},
   "outputs": [],
   "source": [
    "test_str = \"\"\"forgo for trie while loop stack deque kruskal deck decks logic math computer science compute scrap logos loom\n",
    "l zeb for trie log logi sc st\n",
    "4 0 2 1 2 1 2 1\n",
    "brother mother father contest compare stick reverse tree brave revere\n",
    "ther her bro reve rever revere reverse test\n",
    "0 0 1 2 2 1 1 0\n",
    "test test test test test test test test test test test test test\n",
    "test tes te t testing\n",
    "13 13 13 13 0\"\"\""
   ]
  },
  {
   "cell_type": "code",
   "execution_count": null,
   "id": "fa6ebda0",
   "metadata": {},
   "outputs": [],
   "source": [
    "from collections import namedtuple\n",
    "\n",
    "T = namedtuple('test', [\"test_in\", \"out\"])\n",
    "C = namedtuple('color', [\"R\", \"G\", 'K'])\n",
    "c = C(\"\\033[1;31m\", \"\\033[1;32m\", \"\\033[0m\")\n",
    " \n",
    "lines = test_str.split('\\n')\n",
    "lines = list(map(lambda x: x.split(), lines))    \n",
    "    \n",
    "tests = [\n",
    "            T(in_v, list(map(int, out_v))) \n",
    "            for in_v, out_v in zip(zip(lines[::3], lines[1::3]), lines[2::3])\n",
    "        ]"
   ]
  },
  {
   "cell_type": "code",
   "execution_count": null,
   "id": "33a1d81d",
   "metadata": {},
   "outputs": [],
   "source": [
    "for idx, test in enumerate(tests):\n",
    "    t = Trie(test.test_in[0])\n",
    "    res = [t.count(word) for word in test.test_in[1]]\n",
    "    print(f\"Test {idx :.<10}:\",c.G+\"PASS\" if (res == test.out) else c.R + \"FAIL\", c.K)"
   ]
  },
  {
   "cell_type": "code",
   "execution_count": null,
   "id": "5225e75c",
   "metadata": {},
   "outputs": [],
   "source": []
  }
 ],
 "metadata": {
  "kernelspec": {
   "display_name": "Python 3 (ipykernel)",
   "language": "python",
   "name": "python3"
  },
  "language_info": {
   "codemirror_mode": {
    "name": "ipython",
    "version": 3
   },
   "file_extension": ".py",
   "mimetype": "text/x-python",
   "name": "python",
   "nbconvert_exporter": "python",
   "pygments_lexer": "ipython3",
   "version": "3.8.5"
  }
 },
 "nbformat": 4,
 "nbformat_minor": 5
}

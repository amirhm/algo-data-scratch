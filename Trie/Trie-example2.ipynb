{
 "cells": [
  {
   "cell_type": "code",
   "execution_count": null,
   "id": "71ce73ae",
   "metadata": {},
   "outputs": [],
   "source": [
    "class TrieNode:\n",
    "    def __init__(self, value, isword=False):\n",
    "        self.childs = {}\n",
    "        self.value = value\n",
    "        self.freq = 0\n",
    "        self.isword = isword\n",
    "        \n",
    "class Trie:\n",
    "    def __init__(self):\n",
    "        self.root = TrieNode(\"$\")\n",
    "\n",
    "    def addword(self, word):\n",
    "        cur = self.root\n",
    "        for w in word:\n",
    "            if w not in cur.childs:\n",
    "                cur.childs[w] = TrieNode(w)\n",
    "            cur.childs[w].freq += 1\n",
    "            cur = cur.childs[w]\n",
    "        cur.isword = True\n",
    "            \n",
    "    def count(self, prefix):\n",
    "        cur = self.root\n",
    "        for w in prefix:\n",
    "            if w in cur.childs:\n",
    "                cur = cur.childs[w]\n",
    "            else:\n",
    "                return 0\n",
    "        return cur.freq\n",
    "    \n",
    "    def dfs(self, node, prefix, results):\n",
    "        for w, child in node.childs.items():\n",
    "            if child.isword:\n",
    "                results.append(prefix + child.value)\n",
    "            self.dfs(child, prefix + child.value, results)\n",
    "    \n",
    "    def search(self, prefix):\n",
    "        cur = self.root\n",
    "        for w in prefix:\n",
    "            if w in cur.childs:\n",
    "                cur = cur.childs[w]\n",
    "            else:\n",
    "                return 0\n",
    "        res = []\n",
    "        node = cur\n",
    "        self.dfs(node, prefix, res)\n",
    "        return res"
   ]
  },
  {
   "cell_type": "code",
   "execution_count": null,
   "id": "d680f38a",
   "metadata": {},
   "outputs": [],
   "source": [
    "# tests"
   ]
  },
  {
   "cell_type": "code",
   "execution_count": null,
   "id": "3a851b6c",
   "metadata": {},
   "outputs": [],
   "source": [
    "test = \"\"\"forgo for trie while loop stack deque kruskal deck decks logic math computer science compute scrap logos loom\n",
    "l zeb for trie log logi sc st\n",
    "4 0 2 1 2 1 2 1\n",
    "brother mother father contest compare stick reverse tree brave revere\n",
    "ther her bro reve rever revere reverse test\n",
    "0 0 1 2 2 1 1 0\n",
    "test test test test test test test test test test test test test\n",
    "test tes te t testing\n",
    "13 13 13 13 0\"\"\""
   ]
  },
  {
   "cell_type": "code",
   "execution_count": null,
   "id": "09e9151c",
   "metadata": {},
   "outputs": [],
   "source": [
    "lines = test.split('\\n')\n",
    "tests = []\n",
    "for i in range(0, len(lines), 3):\n",
    "    tin = lines[i].split()\n",
    "    tp = lines[i + 1].split()\n",
    "    tres = list(map(int, lines[i + 2].split()))\n",
    "    tests.append([tin, tp, tres])"
   ]
  },
  {
   "cell_type": "code",
   "execution_count": null,
   "id": "f5c9b260",
   "metadata": {},
   "outputs": [],
   "source": [
    "for test in tests[:1]:\n",
    "    t = Trie()\n",
    "    for word in test[0]:\n",
    "        t.addword(word)\n",
    "    res = []\n",
    "    for word in test[1]:\n",
    "        res.append(t.count(word))\n",
    "    assert res == test[2]"
   ]
  },
  {
   "cell_type": "code",
   "execution_count": null,
   "id": "8c29c251",
   "metadata": {},
   "outputs": [],
   "source": [
    "t.search(\"l\")"
   ]
  }
 ],
 "metadata": {
  "kernelspec": {
   "display_name": "Python 3 (ipykernel)",
   "language": "python",
   "name": "python3"
  },
  "language_info": {
   "codemirror_mode": {
    "name": "ipython",
    "version": 3
   },
   "file_extension": ".py",
   "mimetype": "text/x-python",
   "name": "python",
   "nbconvert_exporter": "python",
   "pygments_lexer": "ipython3",
   "version": "3.8.5"
  }
 },
 "nbformat": 4,
 "nbformat_minor": 5
}

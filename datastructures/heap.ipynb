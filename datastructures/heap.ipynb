{
 "cells": [
  {
   "cell_type": "code",
   "execution_count": null,
   "id": "46ab7ea7",
   "metadata": {},
   "outputs": [],
   "source": [
    "# Implementation of heap"
   ]
  },
  {
   "cell_type": "code",
   "execution_count": null,
   "id": "739b3f31",
   "metadata": {},
   "outputs": [],
   "source": [
    "from collections import UserList\n",
    "class heap(UserList):\n",
    "    def __init__(self):\n",
    "        super().__init__()\n",
    "        self.data = []\n",
    "\n",
    "    def __setitem__(self, idx, val):\n",
    "        self.data[idx] = val\n",
    "\n",
    "    def __len__(self):\n",
    "        return len(self.data)\n",
    "\n",
    "    def heapify(self, vec):\n",
    "        for v in vec:\n",
    "            self.push(v)\n",
    "\n",
    "    def push(self, val):\n",
    "        self.data.append(val)\n",
    "        self.bubble_up(len(self) - 1)\n",
    "\n",
    "    def pop(self):\n",
    "        if len(self) > 0:\n",
    "            last = self.data.pop()\n",
    "        if len(self) == 0:\n",
    "            return last\n",
    "        else: \n",
    "            min_val, self[0] = self[0], last\n",
    "            self.bubble_down()\n",
    "            return min_val\n",
    "\n",
    "    def swap(self, id1, id2):\n",
    "        self[id1], self[id2] = self[id2], self[id1] \n",
    "\n",
    "    def bubble_up(self, child):\n",
    "        parent = (child - 1) // 2\n",
    "        if (self[child] < self[parent]) and (parent >= 0) :\n",
    "            self.swap(child, parent)\n",
    "            self.bubble_up(parent)\n",
    "\n",
    "    def smallest(self, parent):\n",
    "        l, r = 2 * parent + 1 , 2 * parent + 2 \n",
    "        if r < len(self):\n",
    "            child = l if self[l] < self[r] else r\n",
    "        else:\n",
    "            child = l if l < len(self) else False \n",
    "        return child\n",
    "    \n",
    "    def bubble_down(self, parent=0):\n",
    "        child = self.smallest(parent)\n",
    "        if (child ) and (self[parent] > self[child]) :\n",
    "            self.swap(child, parent)\n",
    "            self.bubble_down(parent=child)"
   ]
  },
  {
   "cell_type": "code",
   "execution_count": null,
   "id": "35b0b31f",
   "metadata": {},
   "outputs": [],
   "source": [
    "## Testing"
   ]
  },
  {
   "cell_type": "code",
   "execution_count": null,
   "id": "db190118",
   "metadata": {},
   "outputs": [],
   "source": [
    "import random\n",
    "import heapq\n",
    "\n",
    "d = heap()\n",
    "for n in range(100):\n",
    "    data = [random.randint(0, 100) for i in range(n)]\n",
    "    d.heapify(data)\n",
    "    assert sorted(d) == [d.pop() for _ in range(len(d))] "
   ]
  },
  {
   "cell_type": "code",
   "execution_count": null,
   "id": "45d12d27",
   "metadata": {},
   "outputs": [],
   "source": [
    "for n in range(100):\n",
    "    data = [random.randint(0, 100) for i in range(n)]\n",
    "    d = heap()\n",
    "    d.heapify(data)\n",
    "    py_heap = d.data.copy()\n",
    "    heapq.heapify(py_heap) \n",
    "    assert py_heap == d"
   ]
  }
 ],
 "metadata": {
  "kernelspec": {
   "display_name": "Python 3 (ipykernel)",
   "language": "python",
   "name": "python3"
  },
  "language_info": {
   "codemirror_mode": {
    "name": "ipython",
    "version": 3
   },
   "file_extension": ".py",
   "mimetype": "text/x-python",
   "name": "python",
   "nbconvert_exporter": "python",
   "pygments_lexer": "ipython3",
   "version": "3.8.9"
  },
  "vscode": {
   "interpreter": {
    "hash": "31f2aee4e71d21fbe5cf8b01ff0e069b9275f58929596ceb00d14d90e3e16cd6"
   }
  }
 },
 "nbformat": 4,
 "nbformat_minor": 5
}

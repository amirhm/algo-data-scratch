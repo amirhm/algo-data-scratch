{
 "cells": [
  {
   "cell_type": "code",
   "execution_count": null,
   "id": "46ab7ea7",
   "metadata": {},
   "outputs": [],
   "source": [
    "# Implementation of heap"
   ]
  },
  {
   "cell_type": "code",
   "execution_count": null,
   "id": "739b3f31",
   "metadata": {},
   "outputs": [],
   "source": [
    "from collections import UserList\n",
    "class heap(UserList):\n",
    "    def __init__(self):\n",
    "        super().__init__()\n",
    "        self.data = []\n",
    "    \n",
    "    def heapify(self, vec):\n",
    "        for v in vec:\n",
    "            self.push(v)\n",
    "    \n",
    "    def push(self, val):\n",
    "        self.data.append(val)\n",
    "        cur = len(self.data) - 1\n",
    "        self.bubble_up(cur)\n",
    "        \n",
    "    def pop(self):\n",
    "        if len(self.data) > 0:\n",
    "            last = self.data.pop()\n",
    "        if len(self.data) == 0:\n",
    "            return last\n",
    "        elif len(self.data) >= 1:\n",
    "            mn = self.data[0]\n",
    "            self.data[0] = last\n",
    "            if len(self.data) > 1:\n",
    "                self.bubble_down()\n",
    "            return mn\n",
    "        \n",
    "    def swap(self, id1, id2):\n",
    "        self.data[id1], self.data[id2] = self.data[id2], self.data[id1] \n",
    "        \n",
    "    def bubble_up(self, idx):\n",
    "        child, parent = idx , (idx - 1) // 2\n",
    "        while (self.data[child] < self.data[parent]) and (parent >= 0) :\n",
    "            self.swap(child, parent)\n",
    "            child = parent\n",
    "            parent  = (child - 1) // 2 \n",
    "\n",
    "    def smallest(self, parent):\n",
    "        l, r = 2 * parent + 1 , 2 * parent + 2 \n",
    "        if r < len(self.data):\n",
    "            child = l if self.data[l] < self.data[r] else r\n",
    "        else:\n",
    "            child = l\n",
    "        return child\n",
    "    \n",
    "    def bubble_down(self):\n",
    "        parent = 0\n",
    "        child = self.smallest(parent)\n",
    "        while (child < len(self.data) ) and (self.data[parent] > self.data[child]) :\n",
    "            self.swap(child, parent)\n",
    "            parent = child\n",
    "            child = self.smallest(parent)"
   ]
  },
  {
   "cell_type": "code",
   "execution_count": null,
   "id": "35b0b31f",
   "metadata": {},
   "outputs": [],
   "source": [
    "## Testing"
   ]
  },
  {
   "cell_type": "code",
   "execution_count": null,
   "id": "db190118",
   "metadata": {},
   "outputs": [],
   "source": [
    "import random\n",
    "import heapq\n",
    "\n",
    "d = heap()\n",
    "for n in range(100):\n",
    "    data = [random.randint(0,100) for i in range(n)]\n",
    "    d.heapify(data)\n",
    "    assert sorted(d.data) == [d.pop() for _ in range(len(d.data))] "
   ]
  },
  {
   "cell_type": "code",
   "execution_count": null,
   "id": "45d12d27",
   "metadata": {},
   "outputs": [],
   "source": [
    "d = heap()\n",
    "for n in range(100):\n",
    "    data = [random.randint(0, 100) for i in range(n)]\n",
    "    d.heapify(data)\n",
    "    d2 = d.data.copy()\n",
    "    heapq.heapify(d.data) \n",
    "    assert d2 == d.data"
   ]
  }
 ],
 "metadata": {
  "kernelspec": {
   "display_name": "Python 3 (ipykernel)",
   "language": "python",
   "name": "python3"
  },
  "language_info": {
   "codemirror_mode": {
    "name": "ipython",
    "version": 3
   },
   "file_extension": ".py",
   "mimetype": "text/x-python",
   "name": "python",
   "nbconvert_exporter": "python",
   "pygments_lexer": "ipython3",
   "version": "3.8.5"
  }
 },
 "nbformat": 4,
 "nbformat_minor": 5
}

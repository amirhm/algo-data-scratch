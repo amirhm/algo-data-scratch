{
 "cells": [
  {
   "cell_type": "code",
   "execution_count": null,
   "metadata": {},
   "outputs": [],
   "source": [
    "# Edit Strings"
   ]
  },
  {
   "cell_type": "code",
   "execution_count": null,
   "metadata": {},
   "outputs": [],
   "source": [
    "test = \"\"\"1 1 3 2 5 10 2 1 0 0 0 0 0 0 0 0 0 0 0 0 0 0 0 0 0 0 0 0 0 0 0 0 0 0 0 0\n",
    "abcdefgh\n",
    "hgfedcba\n",
    "30\n",
    "4 2 3 3 0 0 0 0 0 0 0 0 0 0 0 0 0 0 0 0 0 0 0 0 0 0 0 0 0 0 0 0 0 0 0 1\n",
    "dzzbdb\n",
    "dbdbzz\n",
    "0\n",
    "1 2 3 0 0 0 0 0 0 0 0 0 0 0 0 0 0 0 0 0 0 0 0 0 0 0 0 0 0 0 0 0 0 0 0 0\n",
    "abb\n",
    "bba\n",
    "2\n",
    "1 2 3 3 3 2 2 1 1 2 4 4 5 4 3 2 2 1 2 3 3 4 6 1 2 3 3 2 6 7 8 6 4 3 2 2\n",
    "abcdeffffghijklmnnnnooooooooooopqrstuvwxyz\n",
    "ooooooooooo\n",
    "84\n",
    "1 2 3 30 3 2 2 20 10 10 4 4 5 24 33 32 32 1 2 3 443 24 6 91 21 300 3 5552 6 7 8 66 54 43 2 2\n",
    "abbbccbcbcbdjewb\n",
    "zxyyzxy\n",
    "921\n",
    "1 2 3 3 3 2 2 1 1 2 4 4 5 4 3 2 2 1 2 3 3 4 6 1 2 3 3 2 6 7 8 6 4 3 2 2\n",
    "aaaaaaaaaaaaaaaaaaaaaaaaaaaaaaaaaaaaaaaaaaaaaaaaaaaaaaaaa\n",
    "abababababababababababababababababababababababababababaazasadafagahajakalalanabavacahajaapapauag\n",
    "114\n",
    "1 2 3 3 3 2 2 1 1 2 4 4 5 4 3 2 2 1 2 3 3 4 6 1 2 3 3 2 6 7 8 6 4 3 2 2\n",
    "abcdefghijklmnopqrstuvwxyz\n",
    "abcdefghijklmnopqrstuvwxyz\n",
    "0\"\"\""
   ]
  },
  {
   "cell_type": "code",
   "execution_count": null,
   "metadata": {},
   "outputs": [],
   "source": [
    "lines = test.split('\\n')\n",
    "test = []\n",
    "for i in range(0, len(lines), 4):\n",
    "    nums = list(map(int, lines[i].split()))\n",
    "    s1 = lines[i + 1]\n",
    "    s2 = lines[i + 2]\n",
    "    out = lines[i + 3]\n",
    "    test.append((nums, s1, s2, out))"
   ]
  },
  {
   "cell_type": "code",
   "execution_count": null,
   "metadata": {},
   "outputs": [],
   "source": [
    "def edit(s1, s2, nums):\n",
    "    ls1, ls2 = len(s1), len(s2)\n",
    "    \n",
    "    dp = [[0] * (len(s2) + 1) for j in range(len(s1) + 1)]\n",
    "    def cost(c):\n",
    "        return nums[ord(c) - ord('a')]\n",
    "\n",
    "    for i in range(1, len(s1) + 1):\n",
    "        dp[i][0] = dp[i - 1][0] + cost(s1[i - 1])\n",
    "    for j in range(1, len(s2) + 1):\n",
    "        dp[0][j] = dp[0][j -1] + cost(s2[j - 1])\n",
    "    for i in range(1, len(s1) + 1):\n",
    "        for j in range(1, ls2 + 1):\n",
    "            if s1[i - 1] == s2[j - 1]: \n",
    "                dp[i][j] = dp[i - 1][j - 1]\n",
    "            else:\n",
    "                dp[i][j] = min(dp[i - 1][j] + cost(s1[i - 1]), dp[i][j - 1] + cost(s2[j-1]), dp[i-1][j-1] + cost(s1[i - 1])+cost(s2[j - 1]))\n",
    "                \n",
    "    return dp[-1][-1]"
   ]
  },
  {
   "cell_type": "code",
   "execution_count": null,
   "metadata": {},
   "outputs": [],
   "source": [
    "# Solution 2"
   ]
  },
  {
   "cell_type": "code",
   "execution_count": null,
   "metadata": {},
   "outputs": [],
   "source": [
    "def edit(s1, s2, nums):\n",
    "    ls1, ls2 = len(s1), len(s2)\n",
    "    \n",
    "    def cost(c):\n",
    "        return nums[ord(c) - ord('a')]\n",
    "    \n",
    "    cache = {}\n",
    "    def dfs(i, j):\n",
    "        if (i, j ) in cache:\n",
    "            return cache[(i,j)]\n",
    "        c = 0\n",
    "        if i > 0 and j > 0:\n",
    "            if s1[i - 1] == s2[j - 1]:\n",
    "                c = dfs(i - 1 , j - 1)\n",
    "            else:\n",
    "                c = min(cost(s1[i - 1]) + dfs(i-1, j), cost(s2[j - 1]) + dfs(i, j-1))\n",
    "        elif i > 0:\n",
    "            c = cost(s1[i - 1]) + dfs(i - 1, j)\n",
    "        elif j > 0:\n",
    "            c = cost(s2[j - 1]) + dfs(i, j - 1)\n",
    "        cache[(i,j)] = c\n",
    "        return c\n",
    "    return dfs(ls1 , ls2)"
   ]
  },
  {
   "cell_type": "code",
   "execution_count": null,
   "metadata": {},
   "outputs": [],
   "source": [
    "for t in test:\n",
    "    res = edit(t[1], t[2], t[0])\n",
    "    print(res, t[-1])"
   ]
  }
 ],
 "metadata": {
  "kernelspec": {
   "display_name": "Python 3",
   "language": "python",
   "name": "python3"
  },
  "language_info": {
   "codemirror_mode": {
    "name": "ipython",
    "version": 3
   },
   "file_extension": ".py",
   "mimetype": "text/x-python",
   "name": "python",
   "nbconvert_exporter": "python",
   "pygments_lexer": "ipython3",
   "version": "3.8.10"
  }
 },
 "nbformat": 4,
 "nbformat_minor": 4
}

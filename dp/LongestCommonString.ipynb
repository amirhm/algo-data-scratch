{
 "cells": [
  {
   "cell_type": "code",
   "execution_count": null,
   "metadata": {},
   "outputs": [],
   "source": [
    "# Longest Common string"
   ]
  },
  {
   "cell_type": "code",
   "execution_count": null,
   "metadata": {},
   "outputs": [],
   "source": [
    "test = \"\"\"inspire aspire 5\n",
    "abcd hjkl 0\n",
    "almost algomonster 6\n",
    "abcde ace 3\"\"\""
   ]
  },
  {
   "cell_type": "code",
   "execution_count": null,
   "metadata": {},
   "outputs": [],
   "source": [
    "test = [l.split() for l in test.split('\\n')]"
   ]
  },
  {
   "cell_type": "code",
   "execution_count": null,
   "metadata": {},
   "outputs": [],
   "source": [
    "def lcs(s1, s2):\n",
    "    ls1 = len(s1)\n",
    "    ls2 = len(s2)\n",
    "    dp = [[0 for j in range(ls2)]  for i in range(ls1)]\n",
    "    def check(i, j):\n",
    "        if  (0 <= i < ls1) and (0 <= j < ls2):\n",
    "            return dp[i][j]\n",
    "        else:\n",
    "            return 0\n",
    "\n",
    "    \n",
    "    for i in range(0, ls1):\n",
    "        for j in range(0, ls2):\n",
    "            dp[i][j] = max((check(i-1, j-1) + int(s1[i] == s2[j])),  check(i, j-1), check(i-1, j))\n",
    "\n",
    "    return dp[ls1 - 1][ls2 - 1]\n",
    "    "
   ]
  },
  {
   "cell_type": "code",
   "execution_count": null,
   "metadata": {},
   "outputs": [],
   "source": [
    "for t in test:\n",
    "    d = lcs(t[0], t[1])\n",
    "    print(d, t[2])"
   ]
  },
  {
   "cell_type": "code",
   "execution_count": null,
   "metadata": {},
   "outputs": [],
   "source": [
    "# Solution 2"
   ]
  },
  {
   "cell_type": "code",
   "execution_count": null,
   "metadata": {},
   "outputs": [],
   "source": [
    "def lcs(s1, s2):\n",
    "    ls1, ls2 = len(s1), len(s2)\n",
    "    \n",
    "    def dfs(i, j):\n",
    "        if (i >= ls1) or (j >= ls2):\n",
    "            return 0\n",
    "        l = 0\n",
    "        if s1[i] == s2[j]:\n",
    "            l = max(l, 1 + dfs(i + 1, j + 1))\n",
    "        \n",
    "        l = max(l, dfs(i + 1, j))\n",
    "        l = max(l, dfs(i, j + 1))\n",
    "        \n",
    "        return l\n",
    "    \n",
    "    return dfs(0,0)\n"
   ]
  },
  {
   "cell_type": "code",
   "execution_count": null,
   "metadata": {},
   "outputs": [],
   "source": [
    "for t in test:\n",
    "    d = lcs(t[0], t[1])\n",
    "    print(d, t[2])"
   ]
  }
 ],
 "metadata": {
  "kernelspec": {
   "display_name": "Python 3",
   "language": "python",
   "name": "python3"
  },
  "language_info": {
   "codemirror_mode": {
    "name": "ipython",
    "version": 3
   },
   "file_extension": ".py",
   "mimetype": "text/x-python",
   "name": "python",
   "nbconvert_exporter": "python",
   "pygments_lexer": "ipython3",
   "version": "3.8.10"
  }
 },
 "nbformat": 4,
 "nbformat_minor": 4
}

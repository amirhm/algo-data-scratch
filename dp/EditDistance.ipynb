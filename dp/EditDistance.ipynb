{
 "cells": [
  {
   "cell_type": "code",
   "execution_count": null,
   "metadata": {},
   "outputs": [],
   "source": [
    "# Edit Distance"
   ]
  },
  {
   "cell_type": "code",
   "execution_count": null,
   "metadata": {},
   "outputs": [],
   "source": [
    "test = \"\"\"almost algomonster 5\n",
    "intention execution 5\n",
    "brainstorming imagination 9\n",
    "dj abcdef 5\"\"\"\n",
    "test = [[*line.split()[:2], int(line.split()[2])] for line in test.split(\"\\n\")]"
   ]
  },
  {
   "cell_type": "code",
   "execution_count": null,
   "metadata": {},
   "outputs": [],
   "source": [
    "from functools import lru_cache\n",
    "def minimum_dist(s1, s2):\n",
    "    lest_cost = 100000\n",
    "    cache = {}\n",
    "    \n",
    "    def dfs(i, j, cost):\n",
    "        if (i, j, cost) in cache:\n",
    "            return \n",
    "        else:\n",
    "            cache[(i, j, cost)] = 0\n",
    "        nonlocal lest_cost\n",
    "        if (i == len(s1) - 1) and (i == len(s2) - 1):\n",
    "            lest_cost = min(cost , lest_cost)\n",
    "            return \n",
    "        \n",
    "        if (i == len(s1)):\n",
    "            lest_cost = min(lest_cost,  cost + (len(s2) - j))\n",
    "            return \n",
    "        if (j == len(s2)):\n",
    "            lest_cost = min(lest_cost,  cost + (len(s1) - i))\n",
    "            return \n",
    "        \n",
    "        if s1[i] ==s2[j]:\n",
    "            \n",
    "            dfs(i + 1, j + 1, cost) \n",
    "        else:\n",
    "            dfs(i + 1, j + 1, cost + 1) # replace\n",
    "            dfs(i + 1, j, cost + 1) # add\n",
    "            dfs(i, j + 1, cost + 1) # removed\n",
    "        \n",
    "    dfs(0,0,0)\n",
    "    return lest_cost"
   ]
  },
  {
   "cell_type": "code",
   "execution_count": null,
   "metadata": {},
   "outputs": [],
   "source": [
    "for t in test:\n",
    "    res = minimum_dist(t[0] , t[1])\n",
    "    print(res, t[2], res == int(t[2]))"
   ]
  }
 ],
 "metadata": {
  "kernelspec": {
   "display_name": "Python 3",
   "language": "python",
   "name": "python3"
  },
  "language_info": {
   "codemirror_mode": {
    "name": "ipython",
    "version": 3
   },
   "file_extension": ".py",
   "mimetype": "text/x-python",
   "name": "python",
   "nbconvert_exporter": "python",
   "pygments_lexer": "ipython3",
   "version": "3.8.10"
  }
 },
 "nbformat": 4,
 "nbformat_minor": 4
}

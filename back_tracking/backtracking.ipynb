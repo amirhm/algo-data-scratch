{
 "cells": [
  {
   "cell_type": "code",
   "execution_count": null,
   "id": "385983a0",
   "metadata": {},
   "outputs": [],
   "source": [
    "w = 'aaabcdef'"
   ]
  },
  {
   "cell_type": "code",
   "execution_count": null,
   "id": "a2b5ba82",
   "metadata": {},
   "outputs": [],
   "source": [
    "results = []\n",
    "res = []\n",
    "def dfs(res, n):\n",
    "    if len(res) == n:\n",
    "        results.append(tuple(w[k] for k in res))\n",
    "\n",
    "    \n",
    "    for i in range(n):\n",
    "        if i not in res:\n",
    "            res.append(i)\n",
    "            dfs(res, n)\n",
    "            res.pop()\n",
    "    \n",
    "dfs(res, len(w))"
   ]
  },
  {
   "cell_type": "code",
   "execution_count": null,
   "id": "49d6db9a",
   "metadata": {},
   "outputs": [],
   "source": [
    "from itertools import permutations"
   ]
  },
  {
   "cell_type": "code",
   "execution_count": null,
   "id": "6ba13f38",
   "metadata": {},
   "outputs": [],
   "source": [
    "list(permutations(w)) == results"
   ]
  }
 ],
 "metadata": {
  "kernelspec": {
   "display_name": "Python 3 (ipykernel)",
   "language": "python",
   "name": "python3"
  },
  "language_info": {
   "codemirror_mode": {
    "name": "ipython",
    "version": 3
   },
   "file_extension": ".py",
   "mimetype": "text/x-python",
   "name": "python",
   "nbconvert_exporter": "python",
   "pygments_lexer": "ipython3",
   "version": "3.8.5"
  }
 },
 "nbformat": 4,
 "nbformat_minor": 5
}

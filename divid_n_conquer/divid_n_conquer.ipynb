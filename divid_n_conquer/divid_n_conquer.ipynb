{
 "cells": [
  {
   "cell_type": "code",
   "execution_count": 1,
   "id": "4ebc3a62",
   "metadata": {},
   "outputs": [],
   "source": [
    "def dc(rng):\n",
    "    def merge(left, right):\n",
    "        def update(x, y):\n",
    "            if not result or (result[-1][0]!= x and result[-1][1] != y):\n",
    "                result.append([x,y])\n",
    "            else:\n",
    "                result[-1][1] = y\n",
    "        result = []\n",
    "        curx, cury = 0, 0\n",
    "        id1, id2 = 0, 0\n",
    "        ry , ly = 0,0\n",
    "        while id1 < len(left) and id2 < len(right):\n",
    "            x1, y1 = left[id1]\n",
    "            x2, y2 = right[id2]\n",
    "            if x1 < x2:\n",
    "                id1 += 1\n",
    "                ly = y1\n",
    "            else:\n",
    "                id2 += 1\n",
    "                ry = y2\n",
    "            curx = min(x1, x2)\n",
    "            cury = ly +  ry\n",
    "            update(curx, cury)\n",
    "\n",
    "        while id1 < len(left):\n",
    "            x1, y1 = left[id1]\n",
    "            id1 += 1\n",
    "            update(x1, y1)\n",
    "\n",
    "            \n",
    "        while id2 < len(right):\n",
    "            x2, y2 = right[id2]\n",
    "            id2 += 1\n",
    "            update(x2, y2)\n",
    "\n",
    "        return result\n",
    "    \n",
    "    l = len(rng)\n",
    "    if l == 0:\n",
    "        return []\n",
    "    elif l == 1:\n",
    "        return [[rng[0][0], rng[0][2]],[rng[0][1], 0]]\n",
    "    \n",
    "    left = dc(rng[:l//2])\n",
    "    right = dc(rng[l//2:])\n",
    "    return merge(left, right)"
   ]
  },
  {
   "cell_type": "code",
   "execution_count": null,
   "id": "76d19919",
   "metadata": {},
   "outputs": [],
   "source": []
  }
 ],
 "metadata": {
  "kernelspec": {
   "display_name": "Python 3 (ipykernel)",
   "language": "python",
   "name": "python3"
  },
  "language_info": {
   "codemirror_mode": {
    "name": "ipython",
    "version": 3
   },
   "file_extension": ".py",
   "mimetype": "text/x-python",
   "name": "python",
   "nbconvert_exporter": "python",
   "pygments_lexer": "ipython3",
   "version": "3.8.5"
  }
 },
 "nbformat": 4,
 "nbformat_minor": 5
}

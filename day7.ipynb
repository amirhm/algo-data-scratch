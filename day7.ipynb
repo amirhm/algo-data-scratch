{
 "cells": [
  {
   "cell_type": "code",
   "execution_count": null,
   "metadata": {},
   "outputs": [],
   "source": [
    "lines = txt.split('\\n')"
   ]
  },
  {
   "cell_type": "code",
   "execution_count": null,
   "metadata": {},
   "outputs": [],
   "source": [
    "class folder:\n",
    "    def __init__(self, name, parent=None):\n",
    "        self.name = name\n",
    "        self.parent = parent\n",
    "        self.size = None\n",
    "        self.files = []\n",
    "        self.folders = {}\n",
    "        "
   ]
  },
  {
   "cell_type": "code",
   "execution_count": null,
   "metadata": {},
   "outputs": [],
   "source": [
    "\n",
    "idx= 0\n",
    "root = folder('root')\n",
    "cur = root\n",
    "while idx < len(lines) - 1:\n",
    "    p1, p2, *p3 = lines[idx].split()\n",
    "    \n",
    "    if p1 == \"$\": # commands\n",
    "        if p2 == \"cd\":\n",
    "            if p3[0] == \"/\":\n",
    "                cur == root\n",
    "            elif p3[0] == \"..\":\n",
    "                cur = cur.parent\n",
    "            elif p3[0] in cur.folders:\n",
    "                cur = cur.folders[p3[0]]\n",
    "        elif p2 == \"ls\":\n",
    "            while idx < len(lines) - 1 and not lines[idx + 1].startswith('$') :\n",
    "                idx += 1\n",
    "                p1, p2, *p3 = lines[idx].split()\n",
    "                if p1 == \"dir\":\n",
    "                    cur.folders.update({p2: folder(p2, parent=cur)})\n",
    "                else:\n",
    "                    cur.files.append((p1, p2))\n",
    "    idx += 1\n",
    "    \n",
    "   "
   ]
  },
  {
   "cell_type": "code",
   "execution_count": null,
   "metadata": {},
   "outputs": [],
   "source": [
    "def foldersize(root):\n",
    "    \n",
    "    def dfs(node):\n",
    "        if not node:\n",
    "            return\n",
    "        size = sum(filter(None, [dfs(n) for name, n in node.folders.items()]))\n",
    "        size += sum([int(file[0]) for file in node.files])\n",
    "        node.size = size\n",
    "        return size\n",
    "\n",
    "    dfs(root)\n",
    "        "
   ]
  },
  {
   "cell_type": "code",
   "execution_count": null,
   "metadata": {},
   "outputs": [],
   "source": [
    "foldersize(root)"
   ]
  },
  {
   "cell_type": "code",
   "execution_count": null,
   "metadata": {},
   "outputs": [],
   "source": [
    "def part1(root):\n",
    "    lst = []\n",
    "    def dfs(node):\n",
    "        if not node:\n",
    "            return\n",
    "        if node.size < 100000:\n",
    "            lst.append( node.size)\n",
    "        for name, n in node.folders.items():\n",
    "            dfs(n)\n",
    "        \n",
    "    dfs(root)\n",
    "    return lst"
   ]
  },
  {
   "cell_type": "code",
   "execution_count": null,
   "metadata": {},
   "outputs": [],
   "source": [
    "sum(part1(root))"
   ]
  },
  {
   "cell_type": "code",
   "execution_count": null,
   "metadata": {},
   "outputs": [],
   "source": [
    "def part2(root):\n",
    "    lst = []\n",
    "    def dfs(node):\n",
    "        if not node:\n",
    "            return\n",
    "        \n",
    "        lst.append( node.size)\n",
    "        for name, n in node.folders.items():\n",
    "            dfs(n)\n",
    "        \n",
    "    dfs(root)\n",
    "\n",
    "    neededsize = 30000000 - (70000000 - root.size) \n",
    "    lst.sort()\n",
    "    return list(filter(lambda x: x > neededsize, lst))[0]"
   ]
  },
  {
   "cell_type": "code",
   "execution_count": null,
   "metadata": {},
   "outputs": [],
   "source": [
    "part2(root)"
   ]
  },
  {
   "cell_type": "code",
   "execution_count": null,
   "metadata": {},
   "outputs": [],
   "source": []
  }
 ],
 "metadata": {
  "kernelspec": {
   "display_name": "Python 3",
   "language": "python",
   "name": "python3"
  },
  "language_info": {
   "codemirror_mode": {
    "name": "ipython",
    "version": 3
   },
   "file_extension": ".py",
   "mimetype": "text/x-python",
   "name": "python",
   "nbconvert_exporter": "python",
   "pygments_lexer": "ipython3",
   "version": "3.8.6"
  }
 },
 "nbformat": 4,
 "nbformat_minor": 4
}

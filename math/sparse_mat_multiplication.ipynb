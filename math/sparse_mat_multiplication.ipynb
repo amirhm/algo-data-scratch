{
 "cells": [
  {
   "cell_type": "code",
   "execution_count": null,
   "id": "18d0e57b",
   "metadata": {},
   "outputs": [],
   "source": [
    "def py_mat_multiply(a,  b):\n",
    "    a_1, a_2  = len(a) , len(a[0])\n",
    "    b_1, b_2 = len(b) , len(b[0])\n",
    "    assert a_2 == b_1\n",
    "    c = [[0 for j in range(b_2)] for i in range(a_1)]\n",
    "    m = a_1  \n",
    "    n = a_2 \n",
    "    k = b_2 \n",
    "    for i in range(m):\n",
    "        for l in range(n):\n",
    "            tmp = a[i][l]\n",
    "            if tmp != 0:\n",
    "                for j in range(k):\n",
    "                    c[i][j] += tmp * b[l][j]\n",
    "    return c"
   ]
  },
  {
   "cell_type": "code",
   "execution_count": null,
   "id": "576c1ce1",
   "metadata": {},
   "outputs": [],
   "source": [
    "# Generate two random matrix\n",
    "import random\n",
    "\n",
    "m, n , k = random.randint(10, 100), random.randint(10, 100), random.randint(10, 100) \n",
    "mat1 = [[random.randint(1, 100) for j in range(n)] for i in range(m)] \n",
    "mat2 = [[random.randint(1, 100) for j in range(k)] for i in range(n)] \n"
   ]
  },
  {
   "cell_type": "code",
   "execution_count": null,
   "id": "383f84e5",
   "metadata": {},
   "outputs": [],
   "source": [
    "# Measure time\n",
    "import timeit\n",
    "results = {}\n",
    "\n",
    "cmd = 'py_mat_multiply(smat1, mat2)'\n",
    "smat1 = [[mat1[i][j] for j in range(len(mat1[0]))] for i in range(len(mat1))]\n",
    "\n",
    "for item in range(0, 101, 10):\n",
    "    # copy and make first mat sparse\n",
    "    smat1 = [[mat1[i][j] if mat1[i][j] > item else 0 for j in range(len(mat1[0]))] for i in range(len(mat1))]    \n",
    "    results[item] = timeit.timeit(cmd, globals=globals(), number=100) / 100"
   ]
  },
  {
   "cell_type": "code",
   "execution_count": null,
   "id": "98cfff6d",
   "metadata": {},
   "outputs": [],
   "source": [
    "def print_graph(results):\n",
    "    m = max(results.values())\n",
    "    for k, l in results.items():\n",
    "        v = int(l * 80 // m)\n",
    "        print(f\"{k :<10} {'-'*v} {l:2.5f}\")"
   ]
  },
  {
   "cell_type": "code",
   "execution_count": null,
   "id": "64ec9886",
   "metadata": {},
   "outputs": [],
   "source": [
    "# print results in seconds\n",
    "print_graph(results)"
   ]
  },
  {
   "cell_type": "code",
   "execution_count": null,
   "id": "b9bc0e5b",
   "metadata": {},
   "outputs": [],
   "source": [
    "# Speed up with cython and comparison"
   ]
  },
  {
   "cell_type": "code",
   "execution_count": null,
   "id": "aee5f4fa",
   "metadata": {},
   "outputs": [],
   "source": [
    "import numpy as np\n",
    "import cython\n",
    "%load_ext cython"
   ]
  },
  {
   "cell_type": "code",
   "execution_count": null,
   "id": "cd327865",
   "metadata": {},
   "outputs": [],
   "source": [
    "%%cython\n",
    "import cython\n",
    "cimport cython\n",
    "cimport numpy as np\n",
    "import numpy as np\n",
    "\n",
    "@cython.boundscheck(False)\n",
    "@cython.wraparound(False)\n",
    "def cy_mat_multiply(np.ndarray[int, ndim=2] a, np.ndarray[int, ndim=2] b):\n",
    "    cdef int a_1 = a.shape[0]\n",
    "    cdef int a_2 = a.shape[1]\n",
    "    cdef int b_1 = b.shape[0]\n",
    "    cdef int b_2 = b.shape[1]\n",
    "\n",
    "    cdef int m = a_1  \n",
    "    cdef int n = a_2 \n",
    "    cdef int k = b_2 \n",
    "    cdef np.ndarray[int, ndim=2] c = np.zeros((m, k), dtype=int)\n",
    "    cdef int i, j, l\n",
    "    cdef int tmp = 0\n",
    "    for i in range(m):\n",
    "        for l in range(n):\n",
    "            tmp = a[i, l]\n",
    "            if tmp != 0:\n",
    "                for j in range(k):\n",
    "                    c[i, j] += tmp * b[l, j]    \n",
    "    return c"
   ]
  },
  {
   "cell_type": "code",
   "execution_count": null,
   "id": "5d186a44",
   "metadata": {},
   "outputs": [],
   "source": [
    "results = {}\n",
    "npmat1, npmat2 = np.array(mat1), np.array(mat2)\n",
    "cmds = {'cython':'cy_mat_multiply(npmat1, npmat2)', 'python':'py_mat_multiply(mat1, mat2)','numpy':'np.matmul(npmat1, npmat2)'}\n",
    "\n",
    "number = 100\n",
    "for item in cmds.items():\n",
    "    results[item[0]] = timeit.timeit(item[1], globals=globals(), number=number) / number\n",
    "    "
   ]
  },
  {
   "cell_type": "code",
   "execution_count": null,
   "id": "fe099814",
   "metadata": {
    "scrolled": true
   },
   "outputs": [],
   "source": [
    "print_graph(results)"
   ]
  }
 ],
 "metadata": {
  "kernelspec": {
   "display_name": "Python 3",
   "language": "python",
   "name": "python3"
  },
  "language_info": {
   "codemirror_mode": {
    "name": "ipython",
    "version": 3
   },
   "file_extension": ".py",
   "mimetype": "text/x-python",
   "name": "python",
   "nbconvert_exporter": "python",
   "pygments_lexer": "ipython3",
   "version": "3.8.7"
  }
 },
 "nbformat": 4,
 "nbformat_minor": 5
}

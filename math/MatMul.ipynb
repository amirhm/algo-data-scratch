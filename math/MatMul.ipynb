{
 "cells": [
  {
   "cell_type": "code",
   "execution_count": null,
   "metadata": {},
   "outputs": [],
   "source": [
    "import numpy as np"
   ]
  },
  {
   "cell_type": "code",
   "execution_count": null,
   "metadata": {},
   "outputs": [],
   "source": [
    "%load_ext cython"
   ]
  },
  {
   "cell_type": "code",
   "execution_count": null,
   "metadata": {},
   "outputs": [],
   "source": [
    "# Naive Cython implementation"
   ]
  },
  {
   "cell_type": "code",
   "execution_count": null,
   "metadata": {
    "scrolled": true
   },
   "outputs": [],
   "source": [
    "%%cython -a\n",
    "cimport numpy as np\n",
    "import numpy as np\n",
    "import cython\n",
    "\n",
    "@cython.boundscheck(False)\n",
    "@cython.wraparound(False)\n",
    "def matmul1(double[:,:] a, double[:,:] b):\n",
    "    cdef int N = a.shape[0]\n",
    "    cdef int M = a.shape[1]\n",
    "    cdef int P = b.shape[1]\n",
    "    # b = b.T.copy()\n",
    "    cdef int i, j, k, ii, jj\n",
    "    cdef double[:,:] c = np.zeros((N, P), dtype=np.double)\n",
    "    for i in range(0, N):\n",
    "        for j in range(0, M):\n",
    "            for k in range(0, P):\n",
    "                c[i][k] += a[i] [j] * b[j][k]\n",
    "    return np.array(c)"
   ]
  },
  {
   "cell_type": "code",
   "execution_count": null,
   "metadata": {},
   "outputs": [],
   "source": [
    "%%cython -a\n",
    "cimport numpy as np\n",
    "import numpy as np\n",
    "import cython\n",
    "\n",
    "@cython.boundscheck(False)\n",
    "@cython.wraparound(False)\n",
    "def matmul2(double[:,:] a, double[:,:] b):\n",
    "    cdef int N = a.shape[0]\n",
    "    cdef int M = a.shape[1]\n",
    "    cdef int P = b.shape[1]\n",
    "    b = b.T.copy()\n",
    "    cdef int i, j, k, kk\n",
    "    cdef double val0, val1, val2, val3\n",
    "    cdef double[:,:] c = np.zeros((N , P), dtype=np.double, order='C')\n",
    "    cdef np.ndarray[double, ndim=2, mode = 'c'] a_rowbuf = np.ascontiguousarray(a, dtype = np.double)\n",
    "    cdef np.ndarray[double, ndim=2, mode = 'c'] b_rowbuf = np.ascontiguousarray(b, dtype = np.double)\n",
    "    cdef np.ndarray[double, ndim=2, mode = 'c'] rowbuf = np.ascontiguousarray(c, dtype = np.double)\n",
    "    cdef double* a_buf_ptr = <double*> a_rowbuf.data\n",
    "    cdef double* b_buf_ptr = <double*> b_rowbuf.data\n",
    "    cdef double* buf_ptr = <double*> rowbuf.data\n",
    " \n",
    "    for i in range(0, N):\n",
    "        for k in range(0, P, 4):\n",
    "            val0 , val1, val2, val3 = 0, 0, 0, 0\n",
    "            for j in range(0, M, 4):\n",
    "\n",
    "                val0 += a[i][j] *  b[k][j] \n",
    "                val0 += a[i][j + 1] *  b[k][j + 1] \n",
    "                val0 += a[i][j + 2] *  b[k][j + 2] \n",
    "                val0 += a[i][j + 3] *  b[k][j + 3]\n",
    "                \n",
    "                val1 += a[i][j] *  b[k + 1][j] \n",
    "                val1 +=a[i][j + 1] *  b[k+1][j + 1] \n",
    "                val1 +=a[i][j + 2] *  b[k+1][j + 2] \n",
    "                val1 +=a[i][j + 3] *  b[k+1][j + 3]\n",
    "                \n",
    "                val2 += a[i][j] *  b[k + 2][j]\n",
    "                val2 +=a[i][j + 1] *  b[k+2][j + 1]\n",
    "                val2 +=a[i][j + 2] *  b[k+2][j + 2] \n",
    "                val2 +=a[i][j + 3] *  b[k+2][j + 3]\n",
    "                \n",
    "                val3 += a[i][j] *  b[k + 3][j] \n",
    "                val3 += a[i][j + 1] *  b[k+3][j + 1] \n",
    "                val3 += a[i][j + 2] *  b[k+3][j + 2] \n",
    "                val3 += a[i][j + 3] *  b[k+3][j + 3]\n",
    "                \n",
    "\n",
    "            c[i][k] = val0;\n",
    "            c[i][k+1] = val1;\n",
    "            c[i][k+2] = val2;\n",
    "            c[i][k+3] = val3;\n",
    "            \n",
    "    return rowbuf"
   ]
  },
  {
   "cell_type": "code",
   "execution_count": null,
   "metadata": {},
   "outputs": [],
   "source": [
    "# sanity check"
   ]
  },
  {
   "cell_type": "code",
   "execution_count": null,
   "metadata": {},
   "outputs": [],
   "source": [
    "N, M, P = 1024, 1024, 1024\n",
    "a = np.random.randn(N, M)\n",
    "b = np.random.randn(M, P)\n",
    "funcs = ['np.dot',\"matmul1\", \"matmul2\"]\n",
    "c = [eval('np.dot')(a, b)]\n",
    "\n",
    "[np.allclose(c[0], eval(func)(a, b)) for func in funcs]"
   ]
  },
  {
   "cell_type": "code",
   "execution_count": null,
   "metadata": {},
   "outputs": [],
   "source": [
    "import timeit\n",
    "import matplotlib.pyplot as plt"
   ]
  },
  {
   "cell_type": "code",
   "execution_count": null,
   "metadata": {},
   "outputs": [],
   "source": [
    "size_rng = range(8, 128, 4)\n",
    "ts = []\n",
    "for i in size_rng:\n",
    "    N, M, P = i, i, i\n",
    "    a = np.random.randn(N, M)\n",
    "    b = np.random.randn(M, P)\n",
    "    ts.append(\n",
    "        [\n",
    "            timeit.timeit(\n",
    "                globals=globals(),\n",
    "                stmt=func + '(a,b)', number=100\n",
    "            ) / 100 for func in funcs\n",
    "        ]\n",
    "    )"
   ]
  },
  {
   "cell_type": "code",
   "execution_count": null,
   "metadata": {},
   "outputs": [],
   "source": [
    "for idx, func in enumerate(funcs):\n",
    "    plt.plot(size_rng, np.array(ts)[:, idx], label=func)\n",
    "\n",
    "plt.xlabel(\"Mat Size [N]\")\n",
    "plt.ylabel(\"Time (averaged)\")\n",
    "plt.legend()"
   ]
  },
  {
   "cell_type": "code",
   "execution_count": null,
   "metadata": {},
   "outputs": [],
   "source": []
  }
 ],
 "metadata": {
  "kernelspec": {
   "display_name": "Python 3",
   "language": "python",
   "name": "python3"
  },
  "language_info": {
   "codemirror_mode": {
    "name": "ipython",
    "version": 3
   },
   "file_extension": ".py",
   "mimetype": "text/x-python",
   "name": "python",
   "nbconvert_exporter": "python",
   "pygments_lexer": "ipython3",
   "version": "3.8.6"
  }
 },
 "nbformat": 4,
 "nbformat_minor": 4
}

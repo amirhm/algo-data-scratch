{
 "cells": [
  {
   "cell_type": "code",
   "execution_count": null,
   "id": "02385eac",
   "metadata": {},
   "outputs": [],
   "source": [
    "import random\n",
    "data = [random.randint(0, 10000) for _ in range(10)]\n",
    "data1 = data.copy()\n",
    "data2 = data.copy()"
   ]
  },
  {
   "cell_type": "code",
   "execution_count": null,
   "id": "db66546b",
   "metadata": {},
   "outputs": [],
   "source": [
    "## Qsort 1"
   ]
  },
  {
   "cell_type": "code",
   "execution_count": null,
   "id": "dc65a663",
   "metadata": {},
   "outputs": [],
   "source": [
    "def qsort_1(data):\n",
    "    if data == []: return []\n",
    "    p = data[-1]\n",
    "    ret = (\n",
    "        qsort_1([v for v in data[:-1] if v < p ]) +\n",
    "        [p] + \n",
    "        qsort_1([v for v in data[:-1] if v >= p])\n",
    "    )\n",
    "    return ret"
   ]
  },
  {
   "cell_type": "code",
   "execution_count": null,
   "id": "e044f16c",
   "metadata": {},
   "outputs": [],
   "source": [
    "# Qsort 2"
   ]
  },
  {
   "cell_type": "code",
   "execution_count": null,
   "id": "73e5e455",
   "metadata": {},
   "outputs": [],
   "source": [
    "def qsort_2(data,  start,  end):    \n",
    "    pivot = data[end - 1]\n",
    "    left, right = start, end - 1\n",
    "    if start == end : return\n",
    "    while left < right:\n",
    "        while (data[left] < pivot) and (left < end):\n",
    "            left += 1\n",
    "        while (data[right] >= pivot) and (right > left):\n",
    "            right -= 1\n",
    "        data[left], data[right] = data[right], data[left]\n",
    "        \n",
    "    data[end-1], data[right] = data[right], data[end-1]\n",
    "\n",
    "    qsort_2(data, start, left)\n",
    "    qsort_2(data, left + 1, end)"
   ]
  },
  {
   "cell_type": "code",
   "execution_count": null,
   "id": "07b873a9",
   "metadata": {},
   "outputs": [],
   "source": [
    "assert qsort_1(data1) == sorted(data)"
   ]
  },
  {
   "cell_type": "code",
   "execution_count": null,
   "id": "e73ff2b9",
   "metadata": {},
   "outputs": [],
   "source": [
    "qsort_2(data2, 0, len(data2))"
   ]
  },
  {
   "cell_type": "code",
   "execution_count": null,
   "id": "68b5a694",
   "metadata": {},
   "outputs": [],
   "source": [
    "assert data2 == sorted(data)\n",
    "\n"
   ]
  },
  {
   "cell_type": "code",
   "execution_count": null,
   "id": "144fbf0d",
   "metadata": {},
   "outputs": [],
   "source": [
    "%load_ext cython"
   ]
  },
  {
   "cell_type": "code",
   "execution_count": null,
   "id": "06a3b431",
   "metadata": {},
   "outputs": [],
   "source": [
    "%%cython -a\n",
    "cimport cython\n",
    "cimport numpy as np\n",
    "\n",
    "@cython.boundscheck(False) # turn off bounds-checking for entire function\n",
    "@cython.wraparound(False)\n",
    "cdef qsort(int[:]  data, int start, int end):    \n",
    "    cdef int pivot = data[end - 1]\n",
    "    cdef int right = end - 1\n",
    "    cdef int left = start\n",
    "    if start == end : return\n",
    "    while left < right:\n",
    "        while (data[left] < pivot) and (left < end):\n",
    "            left +=1\n",
    "        while (data[right] >= pivot) and (right > left):\n",
    "            right -= 1\n",
    "        data[left], data[right] = data[right], data[left]\n",
    "        \n",
    "    data[end-1], data[right] = data[right], data[end-1]\n",
    "    qsort(data, start, left)\n",
    "    qsort(data, left + 1, end)\n",
    "\n",
    "    \n",
    "def sort(data):\n",
    "    qsort(data, 0, len(data))"
   ]
  }
 ],
 "metadata": {
  "kernelspec": {
   "display_name": "Python 3",
   "language": "python",
   "name": "python3"
  },
  "language_info": {
   "codemirror_mode": {
    "name": "ipython",
    "version": 3
   },
   "file_extension": ".py",
   "mimetype": "text/x-python",
   "name": "python",
   "nbconvert_exporter": "python",
   "pygments_lexer": "ipython3",
   "version": "3.8.7"
  }
 },
 "nbformat": 4,
 "nbformat_minor": 5
}

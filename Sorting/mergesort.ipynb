{
 "cells": [
  {
   "cell_type": "markdown",
   "id": "469e5e70",
   "metadata": {},
   "source": [
    "## MergeSort"
   ]
  },
  {
   "cell_type": "code",
   "execution_count": 7,
   "id": "756d2668",
   "metadata": {},
   "outputs": [],
   "source": [
    "def mergesort(l):\n",
    "    def merge(l, r):\n",
    "        lp, rp = 0 , 0\n",
    "        d = []\n",
    "        while lp < len(l) or rp < len(r):\n",
    "            if rp >= len(r):\n",
    "                d += l[lp:]\n",
    "                return d\n",
    "            elif lp >= len(l):\n",
    "                d += r[rp:]\n",
    "                return d\n",
    "            elif l[lp] < r[rp]:\n",
    "                d.append(l[lp])\n",
    "                lp += 1\n",
    "            else:\n",
    "                d.append(r[rp])\n",
    "                rp += 1\n",
    "        return d\n",
    "    if len(l) <= 1:\n",
    "        return l\n",
    "    n = len(l)\n",
    "    datal = mergesort(l[:n//2])\n",
    "    datar = mergesort(l[n//2:])\n",
    "    return merge(datal, datar)"
   ]
  },
  {
   "cell_type": "code",
   "execution_count": 8,
   "id": "9bc7f3bc",
   "metadata": {},
   "outputs": [],
   "source": [
    "import random\n",
    "N = 1000\n",
    "vec =  [random.randint(0, 100) for _ in range(N)]"
   ]
  },
  {
   "cell_type": "code",
   "execution_count": 9,
   "id": "c54fa5e9",
   "metadata": {},
   "outputs": [
    {
     "data": {
      "text/plain": [
       "True"
      ]
     },
     "execution_count": 9,
     "metadata": {},
     "output_type": "execute_result"
    }
   ],
   "source": [
    "mergesort(vec) == sorted(vec)"
   ]
  },
  {
   "cell_type": "code",
   "execution_count": null,
   "id": "969eb751",
   "metadata": {},
   "outputs": [],
   "source": []
  }
 ],
 "metadata": {
  "kernelspec": {
   "display_name": "Python 3 (ipykernel)",
   "language": "python",
   "name": "python3"
  },
  "language_info": {
   "codemirror_mode": {
    "name": "ipython",
    "version": 3
   },
   "file_extension": ".py",
   "mimetype": "text/x-python",
   "name": "python",
   "nbconvert_exporter": "python",
   "pygments_lexer": "ipython3",
   "version": "3.8.5"
  }
 },
 "nbformat": 4,
 "nbformat_minor": 5
}

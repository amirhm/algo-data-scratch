{
 "cells": [
  {
   "cell_type": "markdown",
   "id": "469e5e70",
   "metadata": {},
   "source": [
    "## MergeSort"
   ]
  },
  {
   "cell_type": "code",
   "execution_count": null,
   "id": "756d2668",
   "metadata": {},
   "outputs": [],
   "source": [
    "def mergesort(l):\n",
    "    def merge(l, r):\n",
    "        lp, rp = 0 , 0\n",
    "        d = []\n",
    "        while lp < len(l) and rp < len(r):\n",
    "            if l[lp] < r[rp]:\n",
    "                d.append(l[lp])\n",
    "                lp += 1\n",
    "            else:\n",
    "                d.append(r[rp])\n",
    "                rp += 1\n",
    "        if rp < len(r): d.extend(l[lp:])\n",
    "        if lp < len(l): d.extend(r[rp:])\n",
    "        return d\n",
    "    if len(l) <= 1:\n",
    "        return l\n",
    "    n = len(l)\n",
    "    return merge(mergesort(l[:n//2]), mergesort(l[n//2:]))"
   ]
  },
  {
   "cell_type": "code",
   "execution_count": null,
   "id": "9bc7f3bc",
   "metadata": {},
   "outputs": [],
   "source": [
    "import random\n",
    "N = 100000\n",
    "vec =  [random.randint(0, 100) for _ in range(N)]"
   ]
  },
  {
   "cell_type": "code",
   "execution_count": null,
   "id": "c54fa5e9",
   "metadata": {},
   "outputs": [],
   "source": [
    "%%timeit\n",
    "mergesort(vec) == sorted(vec)"
   ]
  },
  {
   "cell_type": "code",
   "execution_count": null,
   "id": "3379394a",
   "metadata": {},
   "outputs": [],
   "source": [
    "# Merge sort in 9 lines (surprisingly not slower)"
   ]
  },
  {
   "cell_type": "code",
   "execution_count": null,
   "id": "ef3aed0a",
   "metadata": {},
   "outputs": [],
   "source": [
    "def mergesort(l):\n",
    "    def merge(l, r):\n",
    "        res = []\n",
    "        while l and r : ((res.append(l.pop())) if (l[-1] > r[-1])  else res.append(r.pop()))\n",
    "        #while r or l: res.append(r.pop()) if r else (res.append(l.pop()))\n",
    "        if r: res[::-1].extend(r)\n",
    "        if l: res[::-1].extend(l)\n",
    "        return res\n",
    "    if len(l) <= 1: return l\n",
    "    return merge(mergesort(l[:len(l) // 2]), mergesort(l[len(l) // 2:]))"
   ]
  },
  {
   "cell_type": "code",
   "execution_count": null,
   "id": "c9b244c0",
   "metadata": {},
   "outputs": [],
   "source": [
    "%%timeit\n",
    "mergesort(vec) == sorted(vec)"
   ]
  },
  {
   "cell_type": "code",
   "execution_count": null,
   "id": "a7574880",
   "metadata": {},
   "outputs": [],
   "source": []
  }
 ],
 "metadata": {
  "kernelspec": {
   "display_name": "Python 3",
   "language": "python",
   "name": "python3"
  },
  "language_info": {
   "codemirror_mode": {
    "name": "ipython",
    "version": 3
   },
   "file_extension": ".py",
   "mimetype": "text/x-python",
   "name": "python",
   "nbconvert_exporter": "python",
   "pygments_lexer": "ipython3",
   "version": "3.8.7"
  }
 },
 "nbformat": 4,
 "nbformat_minor": 5
}

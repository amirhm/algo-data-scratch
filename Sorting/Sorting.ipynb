{
 "cells": [
  {
   "cell_type": "code",
   "execution_count": null,
   "metadata": {},
   "outputs": [],
   "source": [
    "# Sorting"
   ]
  },
  {
   "cell_type": "code",
   "execution_count": null,
   "metadata": {},
   "outputs": [],
   "source": [
    "#Insertion Sort"
   ]
  },
  {
   "cell_type": "code",
   "execution_count": null,
   "metadata": {},
   "outputs": [],
   "source": [
    "def sort_insertion(ulist):\n",
    "    for i in range(len(ulist)):\n",
    "        idx = i\n",
    "        while idx > 0 and ulist[idx] < ulist[idx - 1]:\n",
    "            ulist[idx - 1] , ulist[idx] = ulist[idx] , ulist[idx - 1]\n",
    "            idx -=1\n",
    "    \n",
    "    return ulist"
   ]
  },
  {
   "cell_type": "code",
   "execution_count": null,
   "metadata": {},
   "outputs": [],
   "source": [
    "# Selction Sort"
   ]
  },
  {
   "cell_type": "code",
   "execution_count": null,
   "metadata": {},
   "outputs": [],
   "source": [
    "def sort_selection(ulist):\n",
    "    for i in range(len(ulist) - 1):\n",
    "        _midx = -1\n",
    "        _mval = ulist[i]\n",
    "        for j in range(i + 1, len(ulist)):\n",
    "            if ulist[j] < _mval:\n",
    "                _midx, _mval,  = j, ulist[j]\n",
    "        if _midx > -1:\n",
    "            ulist[i], ulist[_midx] = ulist[_midx] , ulist[i]            \n",
    "    return ulist"
   ]
  },
  {
   "cell_type": "code",
   "execution_count": null,
   "metadata": {},
   "outputs": [],
   "source": [
    "import random\n",
    "import pytest\n",
    "d = []\n",
    "for i in range(100):\n",
    "    d.append(random.sample(range(1000), 10))"
   ]
  },
  {
   "cell_type": "code",
   "execution_count": null,
   "metadata": {},
   "outputs": [],
   "source": [
    "# test\n",
    "for di in d:\n",
    "    assert sort_insertion(di.copy()) == sorted(di)\n",
    "    assert sort_selection(di.copy()) == sorted(di)"
   ]
  },
  {
   "cell_type": "code",
   "execution_count": null,
   "metadata": {},
   "outputs": [],
   "source": [
    "import time"
   ]
  },
  {
   "cell_type": "code",
   "execution_count": null,
   "metadata": {},
   "outputs": [],
   "source": [
    "from typing import List\n",
    "def bs(slist:List[int], target: int)-> int:\n",
    "    r, l = 0, len(slist)  \n",
    "    while r < l:\n",
    "        cidx = (l + r) // 2\n",
    "        if slist[cidx] == target:\n",
    "            return cidx\n",
    "        elif slist[cidx] > target:\n",
    "            l = cidx\n",
    "        else:\n",
    "            r = cidx +1\n",
    "    return -1"
   ]
  },
  {
   "cell_type": "code",
   "execution_count": null,
   "metadata": {},
   "outputs": [],
   "source": [
    "tdata = []\n",
    "for _ in range(100):\n",
    "    data = random.sample(range(1000), 100)\n",
    "    data.sort()\n",
    "    val = random.sample(data, 1)\n",
    "    idx = data.index(val[0])\n",
    "    ts = time.time()\n",
    "    midx = bs(data, val[0])\n",
    "    tdata.append(time.time() - ts)\n",
    "    assert (midx == idx)"
   ]
  }
 ],
 "metadata": {
  "kernelspec": {
   "display_name": "Python 3",
   "language": "python",
   "name": "python3"
  },
  "language_info": {
   "codemirror_mode": {
    "name": "ipython",
    "version": 3
   },
   "file_extension": ".py",
   "mimetype": "text/x-python",
   "name": "python",
   "nbconvert_exporter": "python",
   "pygments_lexer": "ipython3",
   "version": "3.8.7"
  }
 },
 "nbformat": 4,
 "nbformat_minor": 4
}

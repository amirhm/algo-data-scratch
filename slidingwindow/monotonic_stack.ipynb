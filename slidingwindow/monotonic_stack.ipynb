{
 "cells": [
  {
   "cell_type": "markdown",
   "id": "50afec12",
   "metadata": {},
   "source": [
    "## Monotonic Stack\n",
    "\n",
    "return the max value in a sliding window of size m"
   ]
  },
  {
   "cell_type": "code",
   "execution_count": null,
   "id": "137d65f1",
   "metadata": {},
   "outputs": [],
   "source": [
    "def baseline(data, m):\n",
    "    t = []\n",
    "    for i in range(0, len(data) - m + 1):\n",
    "        t.append(max(data[i: i + m]))\n",
    "    return t"
   ]
  },
  {
   "cell_type": "code",
   "execution_count": null,
   "id": "413bc260",
   "metadata": {},
   "outputs": [],
   "source": [
    "from collections import deque\n",
    "class monotonic:\n",
    "    def __init__(self, wlen):\n",
    "        self.wlen = wlen\n",
    "        self.stack = deque()\n",
    "\n",
    "    def add(self, val, idx):\n",
    "        while len(self.stack)> 0 and (val > self.stack[-1][0]):\n",
    "            self.stack.pop()\n",
    "            \n",
    "        self.stack.append((val, idx))         \n",
    "        if self.stack[0][1] <= idx - self.wlen:\n",
    "            self.stack.popleft()\n",
    "\n",
    "    def mx(self):\n",
    "        return self.stack[0][0] "
   ]
  },
  {
   "cell_type": "code",
   "execution_count": null,
   "id": "5b7c166e",
   "metadata": {},
   "outputs": [],
   "source": [
    "class solution:\n",
    "    def __init__(self, data, m):\n",
    "        self.m = m\n",
    "        self.data = data\n",
    "        self.d = monotonic(self.m)\n",
    "        self.result = []\n",
    "    def __call__(self):\n",
    "        for i in range(len(self.data)):\n",
    "            self.d.add(self.data[i], i)\n",
    "            if i >= self.m - 1:\n",
    "                self.result.append(self.d.mx())\n",
    "        return self.result"
   ]
  },
  {
   "cell_type": "markdown",
   "id": "1718a3a6",
   "metadata": {},
   "source": [
    "## Test"
   ]
  },
  {
   "cell_type": "code",
   "execution_count": null,
   "id": "00d430cd",
   "metadata": {},
   "outputs": [],
   "source": [
    "import random\n",
    "for n in range(10, 50):\n",
    "    for m in range(1, n):\n",
    "        data =  [random.randint(0, 100) for i in range(n)]\n",
    "        assert solution(data, m)() == baseline(data, m)"
   ]
  }
 ],
 "metadata": {
  "kernelspec": {
   "display_name": "Python 3 (ipykernel)",
   "language": "python",
   "name": "python3"
  },
  "language_info": {
   "codemirror_mode": {
    "name": "ipython",
    "version": 3
   },
   "file_extension": ".py",
   "mimetype": "text/x-python",
   "name": "python",
   "nbconvert_exporter": "python",
   "pygments_lexer": "ipython3",
   "version": "3.8.5"
  }
 },
 "nbformat": 4,
 "nbformat_minor": 5
}
